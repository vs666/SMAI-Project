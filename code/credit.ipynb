{
  "cells": [
    {
      "cell_type": "code",
      "execution_count": 36,
      "metadata": {
        "id": "YrlJrno0bpg8"
      },
      "outputs": [],
      "source": [
        "from sklearn.model_selection import train_test_split\n",
        "from sklearn.datasets import make_classification\n",
        "from sklearn.neighbors import KNeighborsClassifier\n",
        "from sklearn.metrics import accuracy_score,RocCurveDisplay,roc_curve, auc\n",
        "import matplotlib.pyplot as plt\n",
        "from imblearn.over_sampling import SMOTE\n",
        "import pandas as pd \n",
        "import numpy as np\n",
        "import random\n"
      ]
    },
    {
      "cell_type": "code",
      "execution_count": null,
      "metadata": {
        "id": "aouZVO-WbphH"
      },
      "outputs": [],
      "source": [
        "PATHNAME = './creditcard.csv'"
      ]
    },
    {
      "cell_type": "code",
      "execution_count": 37,
      "metadata": {
        "id": "Qa3NmgXfbphK"
      },
      "outputs": [],
      "source": [
        "def loadData():\n",
        "  df = pd.read_csv(PATHNAME).dropna()\n",
        "  X = df.drop(df.columns.values[-1:],axis=1)\n",
        "  y = df.drop(df.columns.values[:-1],axis=1)\n",
        "  y_minority = 1\n",
        "  return X.to_numpy(),y.to_numpy(), y_minority"
      ]
    },
    {
      "cell_type": "code",
      "execution_count": 42,
      "metadata": {
        "colab": {
          "base_uri": "https://localhost:8080/"
        },
        "id": "-tHxTDtRbphN",
        "outputId": "cb222d9a-82b8-4057-c9f4-5cdf8e78c44b"
      },
      "outputs": [
        {
          "name": "stdout",
          "output_type": "stream",
          "text": [
            "55\n",
            "19374\n",
            "(77712, 30) (77712,) (19429, 30) (19429,)\n"
          ]
        }
      ],
      "source": [
        "'''\n",
        "  Analysing dataset\n",
        "'''\n",
        "X,y,y_minority = loadData()\n",
        "X_train,X_test,y_train,y_test = train_test_split(X,y,test_size=0.2,random_state=0)\n",
        "y_train = y_train.ravel()\n",
        "y_test = y_test.ravel()\n",
        "print(len(X_test[np.all([y_test==1],axis=0)]))\n",
        "print(len(X_test[np.all([y_test==0],axis=0)]))\n",
        "print(X_train.shape,y_train.shape,X_test.shape,y_test.shape)"
      ]
    },
    {
      "cell_type": "code",
      "execution_count": 24,
      "metadata": {
        "colab": {
          "base_uri": "https://localhost:8080/"
        },
        "id": "QH-HnZKLbphR",
        "outputId": "82683c3d-0141-48a9-bdb1-b0b325cddcb5"
      },
      "outputs": [
        {
          "name": "stdout",
          "output_type": "stream",
          "text": [
            "True  + :  0\n",
            "True  - :  19374\n",
            "False + :  0\n",
            "False - : 55\n"
          ]
        }
      ],
      "source": [
        "model_old = KNeighborsClassifier()\n",
        "model_old.fit(X_train,y_train)\n",
        "y_predict = model_old.predict(X_test)\n",
        "tp = 0\n",
        "tn = 0\n",
        "fp = 0\n",
        "fn = 0\n",
        "\n",
        "for i in range(len(y_test)):\n",
        "  if y_test[i] != y_minority and y_predict[i] != y_minority:\n",
        "    tn += 1\n",
        "    y_test[i] = 0\n",
        "    y_predict[i] = 0\n",
        "  elif y_test[i] != y_minority and y_predict[i] == y_minority:\n",
        "    fp += 1\n",
        "    y_test[i] = 0\n",
        "    y_predict[i] = 1\n",
        "  elif y_test[i] == y_minority and y_predict[i] != y_minority:\n",
        "    fn += 1\n",
        "    y_test[i] = 1\n",
        "    y_predict[i] = 0\n",
        "  elif y_test[i] == y_minority and y_predict[i] == y_minority:\n",
        "    tp += 1\n",
        "    y_test[i] = 1\n",
        "    y_predict[i] = 1\n",
        "\n",
        "print('True  + : ',tp)\n",
        "print('True  - : ',tn)\n",
        "print('False + : ',fp)\n",
        "print('False - :',fn)\n",
        "\n",
        "# print('Precision : ',tp/(tp+fp))\n",
        "# print('Recall : ',tp/(tp+fn))\n"
      ]
    },
    {
      "cell_type": "code",
      "execution_count": 41,
      "metadata": {
        "colab": {
          "base_uri": "https://localhost:8080/",
          "height": 601
        },
        "id": "t05pjIy7bpiV",
        "outputId": "ebc546f4-4875-4b47-e180-4d9b604c71b3"
      },
      "outputs": [
        {
          "name": "stdout",
          "output_type": "stream",
          "text": [
            "Old 55\n",
            "True  + :  0\n",
            "True  - :  19374\n",
            "False + :  0\n",
            "False - : 55\n",
            "Precision :  0.0\n",
            "Recall :  0.0\n",
            "\n",
            "\n",
            "New 19531\n",
            "True  + :  19069\n",
            "True  - :  18192\n",
            "False + :  1045\n",
            "False - : 462\n",
            "Precision :  0.9480461370189918\n",
            "Recall :  0.9763452972198045\n",
            "\n",
            "\n"
          ]
        },
        {
          "data": {
            "image/png": "[encoded data removed]",
            "text/plain": [
              "<Figure size 432x288 with 1 Axes>"
            ]
          },
          "metadata": {
            "needs_background": "light"
          },
          "output_type": "display_data"
        }
      ],
      "source": [
        "oversampling_percentage = [400,500,600,700]\n",
        "k_values = [3]\n",
        "\n",
        "X,y, y_minority = loadData()\n",
        "\n",
        "for k in k_values:\n",
        "  y = y.ravel()\n",
        "  old_X = X\n",
        "  old_y = y\n",
        "  X_train,X_test,y_train,y_test = train_test_split(old_X,old_y,test_size=0.2,random_state=0)\n",
        "  y_train = y_train.ravel()\n",
        "  y_test = y_test.ravel()\n",
        "  print('Old',len(X_test[np.all([y_test==1],axis=0)]))\n",
        "\n",
        "  model_old = KNeighborsClassifier()\n",
        "  model_old.fit(X_train,y_train)\n",
        "  y_predict = model_old.predict(X_test)\n",
        "  tp = 0\n",
        "  tn = 0\n",
        "  fp = 0\n",
        "  fn = 0\n",
        "\n",
        "  for i in range(len(y_test)):\n",
        "    if y_test[i] != y_minority and y_predict[i] != y_minority:\n",
        "      tn += 1\n",
        "      y_test[i] = 0\n",
        "      y_predict[i] = 0\n",
        "    elif y_test[i] != y_minority and y_predict[i] == y_minority:\n",
        "      fp += 1\n",
        "      y_test[i] = 0\n",
        "      y_predict[i] = 1\n",
        "    elif y_test[i] == y_minority and y_predict[i] != y_minority:\n",
        "      fn += 1\n",
        "      y_test[i] = 1\n",
        "      y_predict[i] = 0\n",
        "    elif y_test[i] == y_minority and y_predict[i] == y_minority:\n",
        "      tp += 1\n",
        "      y_test[i] = 1\n",
        "      y_predict[i] = 1\n",
        "\n",
        "  print('True  + : ',tp)\n",
        "  print('True  - : ',tn)\n",
        "  print('False + : ',fp)\n",
        "  print('False - :',fn)\n",
        "\n",
        "  print('Precision : ',tp/max(1,tp+fp))\n",
        "  print('Recall : ',tp/max(1,tp+fn))\n",
        "  print()\n",
        "  print()\n",
        "\n",
        "  fpr, tpr, thresholds = roc_curve(y_test, y_predict)\n",
        "  roc_auc = auc(fpr, tpr)\n",
        "  plt.plot(fpr,tpr,label='Before SMOTE, auc='+str(round(roc_auc, 2)))\n",
        "\n",
        "  # WITH SMOTED DATA\n",
        "  # sm = SMOTE(random_state=0) \n",
        "  new_X, new_y = SMOTE().fit_resample(old_X,old_y.ravel())\n",
        "  X_train,X_test,y_train,y_test = train_test_split(new_X,new_y,test_size=0.2,random_state=0)\n",
        "  y_train = y_train.ravel()\n",
        "  y_test = y_test.ravel()\n",
        "  print('New',len(X_test[np.all([y_test==1],axis=0)]))\n",
        "  model_old = KNeighborsClassifier()\n",
        "  model_old.fit(X_train,y_train)\n",
        "  y_predict = model_old.predict(X_test)\n",
        "  tp = 0\n",
        "  tn = 0\n",
        "  fp = 0\n",
        "  fn = 0\n",
        "  for i in range(len(y_test)):\n",
        "    if y_test[i] != y_minority and y_predict[i] != y_minority:\n",
        "      tn += 1\n",
        "      y_test[i] = 0\n",
        "      y_predict[i] = 0\n",
        "    elif y_test[i] != y_minority and y_predict[i] == y_minority:\n",
        "      fp += 1\n",
        "      y_test[i] = 0\n",
        "      y_predict[i] = 1\n",
        "    elif y_test[i] == y_minority and y_predict[i] != y_minority:\n",
        "      fn += 1\n",
        "      y_test[i] = 1\n",
        "      y_predict[i] = 0\n",
        "    elif y_test[i] == y_minority and y_predict[i] == y_minority:\n",
        "      tp += 1\n",
        "      y_test[i] = 1\n",
        "      y_predict[i] = 1\n",
        "  print('True  + : ',tp)\n",
        "  print('True  - : ',tn)\n",
        "  print('False + : ',fp)\n",
        "  print('False - :',fn)\n",
        "  print('Precision : ',tp/(tp+fp))\n",
        "  print('Recall : ',tp/(tp+fn))\n",
        "  fpr, tpr, thresholds = roc_curve(y_test, y_predict)\n",
        "  roc_auc = auc(fpr, tpr)\n",
        "  plt.plot(fpr,tpr,label=str(os_percent)+' %, auc='+str(round(roc_auc, 2)))\n",
        "  print()\n",
        "  print()\n",
        "  plt.title('Receiver Operating Characteristic, k='+str(k))\n",
        "  plt.ylabel('True Positive Rate')\n",
        "  plt.xlabel('False Positive Rate')\n",
        "  plt.legend()\n",
        "  plt.show()\n"
      ]
    },
    {
      "cell_type": "code",
      "execution_count": null,
      "metadata": {
        "id": "MXy6KfkrbpiZ"
      },
      "outputs": [],
      "source": []
    }
  ],
  "metadata": {
    "colab": {
      "collapsed_sections": [],
      "name": "credit.ipynb",
      "provenance": []
    },
    "interpreter": {
      "hash": "767d51c1340bd893661ea55ea3124f6de3c7a262a8b4abca0554b478b1e2ff90"
    },
    "kernelspec": {
      "display_name": "Python 3.8.10 64-bit",
      "name": "python3"
    },
    "language_info": {
      "name": "python",
      "version": ""
    },
    "orig_nbformat": 4
  },
  "nbformat": 4,
  "nbformat_minor": 0
}