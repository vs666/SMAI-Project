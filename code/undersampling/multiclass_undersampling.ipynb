{
 "cells": [
  {
   "cell_type": "markdown",
   "metadata": {
    "tags": []
   },
   "source": [
    "\n",
    "# Multiclass classification with under-sampling\n",
    "\n",
    "Some balancing methods allow for balancing dataset with multiple classes.\n"
   ]
  },
  {
   "cell_type": "code",
   "execution_count": 1,
   "metadata": {
    "collapsed": false,
    "jupyter": {
     "outputs_hidden": false
    }
   },
   "outputs": [
    {
     "name": "stdout",
     "output_type": "stream",
     "text": [
      "Training target statistics: Counter({1: 42, 2: 34, 0: 17})\n",
      "Testing target statistics: Counter({2: 16, 0: 8, 1: 8})\n",
      "                   pre       rec       spe        f1       geo       iba       sup\n",
      "\n",
      "          0       1.00      1.00      1.00      1.00      1.00      1.00         8\n",
      "          1       0.78      0.88      0.92      0.82      0.90      0.80         8\n",
      "          2       0.93      0.88      0.94      0.90      0.91      0.82        16\n",
      "\n",
      "avg / total       0.91      0.91      0.95      0.91      0.93      0.86        32\n",
      "\n",
      "                   pre       rec       spe        f1       geo       iba       sup\n",
      "\n",
      "          0       1.00      0.88      1.00      0.93      0.94      0.86         8\n",
      "          1       0.75      0.75      0.92      0.75      0.83      0.68         8\n",
      "          2       0.88      0.94      0.88      0.91      0.91      0.83        16\n",
      "\n",
      "avg / total       0.88      0.88      0.92      0.88      0.89      0.80        32\n",
      "\n"
     ]
    }
   ],
   "source": [
    "from collections import Counter\n",
    "\n",
    "from sklearn.datasets import load_iris\n",
    "from sklearn.linear_model import LogisticRegression\n",
    "from sklearn.model_selection import train_test_split\n",
    "from sklearn.preprocessing import StandardScaler\n",
    "\n",
    "from imblearn.datasets import make_imbalance\n",
    "from imblearn.under_sampling import NearMiss\n",
    "from imblearn.pipeline import make_pipeline\n",
    "from imblearn.metrics import classification_report_imbalanced\n",
    "\n",
    "RANDOM_STATE = 30\n",
    "\n",
    "iris = load_iris()\n",
    "X, y = make_imbalance(\n",
    "    iris.data,\n",
    "    iris.target,\n",
    "    sampling_strategy={0: 25, 1: 50, 2: 50},\n",
    "    random_state=RANDOM_STATE,\n",
    ")\n",
    "\n",
    "X_train, X_test, y_train, y_test = train_test_split(X, y, random_state=RANDOM_STATE)\n",
    "\n",
    "print(f\"Training target statistics: {Counter(y_train)}\")\n",
    "print(f\"Testing target statistics: {Counter(y_test)}\")\n",
    "\n",
    "pipeline = make_pipeline(\n",
    "    StandardScaler(), LogisticRegression(random_state=RANDOM_STATE)\n",
    ")\n",
    "pipeline.fit(X_train, y_train)\n",
    "\n",
    "#Specific metrics have been proposed to evaluate the classification performed on imbalanced dataset. \n",
    "#This report compiles the state-of-the-art metrics: precision/recall/specificity, geometric mean, and index balanced accuracy of the geometric mean.\n",
    "print(classification_report_imbalanced(y_test, pipeline.predict(X_test)))\n",
    "\n",
    "pipeline = make_pipeline(\n",
    "    NearMiss(version=1), StandardScaler(), LogisticRegression(random_state=RANDOM_STATE)\n",
    ")\n",
    "pipeline.fit(X_train, y_train)\n",
    "\n",
    "#Specific metrics have been proposed to evaluate the classification performed on imbalanced dataset. \n",
    "#This report compiles the state-of-the-art metrics: precision/recall/specificity, geometric mean, and index balanced accuracy of the geometric mean.\n",
    "print(classification_report_imbalanced(y_test, pipeline.predict(X_test)))"
   ]
  },
  {
   "cell_type": "code",
   "execution_count": 3,
   "metadata": {},
   "outputs": [
    {
     "name": "stdout",
     "output_type": "stream",
     "text": [
      "                   pre       rec       spe        f1       geo       iba       sup\n",
      "\n",
      "          0       1.00      0.88      1.00      0.93      0.94      0.86         8\n",
      "          1       0.75      0.75      0.92      0.75      0.83      0.68         8\n",
      "          2       0.88      0.94      0.88      0.91      0.91      0.83        16\n",
      "\n",
      "avg / total       0.88      0.88      0.92      0.88      0.89      0.80        32\n",
      "\n"
     ]
    }
   ],
   "source": [
    "pipeline = make_pipeline(\n",
    "    NearMiss(version=2), StandardScaler(), LogisticRegression(random_state=RANDOM_STATE)\n",
    ")\n",
    "pipeline.fit(X_train, y_train)\n",
    "\n",
    "#Specific metrics have been proposed to evaluate the classification performed on imbalanced dataset. \n",
    "#This report compiles the state-of-the-art metrics: precision/recall/specificity, geometric mean, and index balanced accuracy of the geometric mean.\n",
    "print(classification_report_imbalanced(y_test, pipeline.predict(X_test)))"
   ]
  },
  {
   "cell_type": "code",
   "execution_count": 4,
   "metadata": {},
   "outputs": [
    {
     "name": "stdout",
     "output_type": "stream",
     "text": [
      "                   pre       rec       spe        f1       geo       iba       sup\n",
      "\n",
      "          0       1.00      1.00      1.00      1.00      1.00      1.00         8\n",
      "          1       0.75      0.38      0.96      0.50      0.60      0.34         8\n",
      "          2       0.75      0.94      0.69      0.83      0.80      0.66        16\n",
      "\n",
      "avg / total       0.81      0.81      0.83      0.79      0.80      0.66        32\n",
      "\n"
     ]
    },
    {
     "name": "stderr",
     "output_type": "stream",
     "text": [
      "/home/samyak/.local/lib/python3.8/site-packages/imblearn/under_sampling/_prototype_selection/_nearmiss.py:175: UserWarning: The number of the samples to be selected is larger than the number of samples available. The balancing ratio cannot be ensure and all samples will be returned.\n",
      "  warnings.warn(\n",
      "/home/samyak/.local/lib/python3.8/site-packages/imblearn/under_sampling/_prototype_selection/_nearmiss.py:175: UserWarning: The number of the samples to be selected is larger than the number of samples available. The balancing ratio cannot be ensure and all samples will be returned.\n",
      "  warnings.warn(\n"
     ]
    }
   ],
   "source": [
    "pipeline = make_pipeline(\n",
    "    NearMiss(version=3), StandardScaler(), LogisticRegression(random_state=RANDOM_STATE)\n",
    ")\n",
    "pipeline.fit(X_train, y_train)\n",
    "\n",
    "#Specific metrics have been proposed to evaluate the classification performed on imbalanced dataset. \n",
    "#This report compiles the state-of-the-art metrics: precision/recall/specificity, geometric mean, and index balanced accuracy of the geometric mean.\n",
    "print(classification_report_imbalanced(y_test, pipeline.predict(X_test)))"
   ]
  },
  {
   "cell_type": "code",
   "execution_count": 5,
   "metadata": {},
   "outputs": [
    {
     "name": "stdout",
     "output_type": "stream",
     "text": [
      "                   pre       rec       spe        f1       geo       iba       sup\n",
      "\n",
      "          0       1.00      1.00      1.00      1.00      1.00      1.00         8\n",
      "          1       0.67      0.25      0.96      0.36      0.49      0.22         8\n",
      "          2       0.71      0.94      0.62      0.81      0.77      0.60        16\n",
      "\n",
      "avg / total       0.77      0.78      0.80      0.75      0.76      0.61        32\n",
      "\n"
     ]
    }
   ],
   "source": [
    "from imblearn.under_sampling import CondensedNearestNeighbour\n",
    "\n",
    "pipeline = make_pipeline(\n",
    "    CondensedNearestNeighbour(n_neighbors=1), StandardScaler(), LogisticRegression(random_state=RANDOM_STATE)\n",
    ")\n",
    "pipeline.fit(X_train, y_train)\n",
    "\n",
    "#Specific metrics have been proposed to evaluate the classification performed on imbalanced dataset. \n",
    "#This report compiles the state-of-the-art metrics: precision/recall/specificity, geometric mean, and index balanced accuracy of the geometric mean.\n",
    "print(classification_report_imbalanced(y_test, pipeline.predict(X_test)))"
   ]
  },
  {
   "cell_type": "code",
   "execution_count": 6,
   "metadata": {},
   "outputs": [
    {
     "name": "stdout",
     "output_type": "stream",
     "text": [
      "                   pre       rec       spe        f1       geo       iba       sup\n",
      "\n",
      "          0       1.00      1.00      1.00      1.00      1.00      1.00         8\n",
      "          1       0.78      0.88      0.92      0.82      0.90      0.80         8\n",
      "          2       0.93      0.88      0.94      0.90      0.91      0.82        16\n",
      "\n",
      "avg / total       0.91      0.91      0.95      0.91      0.93      0.86        32\n",
      "\n"
     ]
    }
   ],
   "source": [
    "from imblearn.under_sampling import TomekLinks\n",
    "\n",
    "pipeline = make_pipeline(\n",
    "    TomekLinks(), StandardScaler(), LogisticRegression(random_state=RANDOM_STATE)\n",
    ")\n",
    "pipeline.fit(X_train, y_train)\n",
    "\n",
    "#Specific metrics have been proposed to evaluate the classification performed on imbalanced dataset. \n",
    "#This report compiles the state-of-the-art metrics: precision/recall/specificity, geometric mean, and index balanced accuracy of the geometric mean.\n",
    "print(classification_report_imbalanced(y_test, pipeline.predict(X_test)))"
   ]
  },
  {
   "cell_type": "code",
   "execution_count": 12,
   "metadata": {},
   "outputs": [
    {
     "name": "stdout",
     "output_type": "stream",
     "text": [
      "                   pre       rec       spe        f1       geo       iba       sup\n",
      "\n",
      "          0       1.00      1.00      1.00      1.00      1.00      1.00         8\n",
      "          1       0.78      0.88      0.92      0.82      0.90      0.80         8\n",
      "          2       0.93      0.88      0.94      0.90      0.91      0.82        16\n",
      "\n",
      "avg / total       0.91      0.91      0.95      0.91      0.93      0.86        32\n",
      "\n"
     ]
    }
   ],
   "source": [
    "from imblearn.under_sampling import OneSidedSelection\n",
    "\n",
    "pipeline = make_pipeline(\n",
    "    OneSidedSelection(n_neighbors=2), StandardScaler(), LogisticRegression(random_state=RANDOM_STATE)\n",
    ")\n",
    "pipeline.fit(X_train, y_train)\n",
    "\n",
    "#Specific metrics have been proposed to evaluate the classification performed on imbalanced dataset. \n",
    "#This report compiles the state-of-the-art metrics: precision/recall/specificity, geometric mean, and index balanced accuracy of the geometric mean.\n",
    "print(classification_report_imbalanced(y_test, pipeline.predict(X_test)))"
   ]
  },
  {
   "cell_type": "code",
   "execution_count": null,
   "metadata": {},
   "outputs": [],
   "source": []
  }
 ],
 "metadata": {
  "kernelspec": {
   "display_name": "Python 3",
   "language": "python",
   "name": "python3"
  },
  "language_info": {
   "codemirror_mode": {
    "name": "ipython",
    "version": 3
   },
   "file_extension": ".py",
   "mimetype": "text/x-python",
   "name": "python",
   "nbconvert_exporter": "python",
   "pygments_lexer": "ipython3",
   "version": "3.8.10"
  }
 },
 "nbformat": 4,
 "nbformat_minor": 4
}
