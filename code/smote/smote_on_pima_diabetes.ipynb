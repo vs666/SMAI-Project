{
  "nbformat": 4,
  "nbformat_minor": 0,
  "metadata": {
    "colab": {
      "name": "smote_on_pima_diabetes.ipynb",
      "provenance": [],
      "collapsed_sections": []
    },
    "kernelspec": {
      "name": "python3",
      "display_name": "Python 3"
    },
    "language_info": {
      "name": "python"
    }
  },
  "cells": [
    {
      "cell_type": "code",
      "metadata": {
        "id": "fNW1FGc51Q-B"
      },
      "source": [
        "from sklearn.model_selection import train_test_split\n",
        "from sklearn.datasets import make_classification\n",
        "import matplotlib.pyplot as plt\n",
        "import numpy as np\n",
        "import random\n",
        "from sklearn.neighbors import KNeighborsClassifier\n",
        "from sklearn.metrics import accuracy_score,RocCurveDisplay,roc_curve, auc\n",
        "import pandas as pd \n"
      ],
      "execution_count": null,
      "outputs": []
    },
    {
      "cell_type": "code",
      "metadata": {
        "id": "xIxAVRxI1dBm"
      },
      "source": [
        "'''\n",
        "  Get k nearest neighbours for minority samples\n",
        "'''\n",
        "\n",
        "def get_knn(X, y, y_minority, k):\n",
        "  neighbours = []\n",
        "  for index_1 in range(len(X[:][y==y_minority])):\n",
        "    neighbours.append([])\n",
        "    for index_2 in range(len(X[:][y==y_minority])):\n",
        "      if index_2 != index_1:\n",
        "        dist = np.sum(np.square(X[:][y==y_minority][index_1]-X[:][y==y_minority][index_2]))\n",
        "        neighbours[index_1].append((dist, index_2))\n",
        "    neighbours[index_1].sort()\n",
        "  neighbours = np.array(neighbours)\n",
        "  k_neighbours = neighbours[:, :k]\n",
        "  return k_neighbours"
      ],
      "execution_count": 129,
      "outputs": []
    },
    {
      "cell_type": "code",
      "metadata": {
        "id": "51yHOLro1dct"
      },
      "source": [
        "'''\n",
        "  NN vector selection for oversampling\n",
        "'''\n",
        "\n",
        "def nn_vect_select(X, y, y_minority, nnarray, k, os_percent):\n",
        "  init_size = len(X[:][y==y_minority])\n",
        "  factor = os_percent // 100\n",
        "  for index_1 in range(init_size):\n",
        "    neigh_nums = random.sample(range(0, k), factor)\n",
        "    for i in neigh_nums:\n",
        "      index_2 = int(nnarray[index_1][i][1])\n",
        "      # new_vals = []\n",
        "      # for fid in range(len(X[:][y==y_minority][index_1])):\n",
        "      #   ratio = random.random()\n",
        "      #   new_vals.append(X[:][y==y_minority][index_1][fid] + ratio * (X[:][y==y_minority][index_2][fid] - X[:][y==y_minority][index_1][fid]))\n",
        "      ratio = random.random()\n",
        "      new_vals = X[:][y==y_minority][index_1] + ratio * (X[:][y==y_minority][index_2] - X[:][y==y_minority][index_1])\n",
        "      X = np.append(X,[new_vals],axis=0)\n",
        "      y = np.append(y,[y_minority])\n",
        "  return X, y"
      ],
      "execution_count": 132,
      "outputs": []
    },
    {
      "cell_type": "code",
      "metadata": {
        "id": "G3x4zWqP3kPS"
      },
      "source": [
        "''' \n",
        "  Load data\n",
        "'''\n",
        "\n",
        "def loadData():\n",
        "  df = pd.read_csv('./sample_data/diabetes.csv')\n",
        "  X = df.drop(df.columns.values[-1:],axis=1)\n",
        "  y = df.drop(df.columns.values[:-1],axis=1)\n",
        "  y_minority = 1\n",
        "  \n",
        "  return X.to_numpy(),y.to_numpy(), y_minority"
      ],
      "execution_count": null,
      "outputs": []
    },
    {
      "cell_type": "code",
      "metadata": {
        "colab": {
          "base_uri": "https://localhost:8080/",
          "height": 1000
        },
        "id": "FlGiOUk74M7l",
        "outputId": "ea760945-128b-42e8-b9ac-cae4ed0f2e5c"
      },
      "source": [
        "oversampling_percentage = [200, 300, 400, 500]\n",
        "k_values = [5]\n",
        "\n",
        "X,y, y_minority = loadData()\n",
        "\n",
        "for k in k_values:\n",
        "  y = y.ravel()\n",
        "  old_X = X\n",
        "  old_y = y\n",
        "  X_train,X_test,y_train,y_test = train_test_split(old_X,old_y,test_size=0.2,random_state=0)\n",
        "\n",
        "  model_old = KNeighborsClassifier()\n",
        "  model_old.fit(X_train,y_train)\n",
        "  y_predict = model_old.predict(X_test)\n",
        "  tp = 0\n",
        "  tn = 0\n",
        "  fp = 0\n",
        "  fn = 0\n",
        "\n",
        "  for i in range(len(y_test)):\n",
        "    if y_test[i] != y_minority and y_predict[i] != y_minority:\n",
        "      tn += 1\n",
        "      y_test[i] = 0\n",
        "      y_predict[i] = 0\n",
        "    elif y_test[i] != y_minority and y_predict[i] == y_minority:\n",
        "      fp += 1\n",
        "      y_test[i] = 0\n",
        "      y_predict[i] = 1\n",
        "    elif y_test[i] == y_minority and y_predict[i] != y_minority:\n",
        "      fn += 1\n",
        "      y_test[i] = 1\n",
        "      y_predict[i] = 0\n",
        "    elif y_test[i] == y_minority and y_predict[i] == y_minority:\n",
        "      tp += 1\n",
        "      y_test[i] = 1\n",
        "      y_predict[i] = 1\n",
        "\n",
        "  print('True  + : ',tp)\n",
        "  print('True  - : ',tn)\n",
        "  print('False + : ',fp)\n",
        "  print('False - :',fn)\n",
        "\n",
        "  print('Precision : ',tp/(tp+fp))\n",
        "  print('Recall : ',tp/(tp+fn))\n",
        "  print()\n",
        "  print()\n",
        "\n",
        "  fpr, tpr, thresholds = roc_curve(y_test, y_predict)\n",
        "  roc_auc = auc(fpr, tpr)\n",
        "  plt.plot(fpr,tpr,label='Before SMOTE, auc='+str(round(roc_auc, 2)))\n",
        "\n",
        "  for os_percent in oversampling_percentage:\n",
        "\n",
        "    # WITH SMOTED DATA \n",
        "    new_X, new_y = nn_vect_select(X,y,y_minority,get_knn(X,y,y_minority,k),k, os_percent)\n",
        "    X_train,X_test,y_train,y_test = train_test_split(new_X,new_y,test_size=0.2,random_state=0)\n",
        "\n",
        "    model_old = KNeighborsClassifier()\n",
        "    model_old.fit(X_train,y_train)\n",
        "    y_predict = model_old.predict(X_test)\n",
        "    tp = 0\n",
        "    tn = 0\n",
        "    fp = 0\n",
        "    fn = 0\n",
        "    for i in range(len(y_test)):\n",
        "      if y_test[i] != y_minority and y_predict[i] != y_minority:\n",
        "        tn += 1\n",
        "        y_test[i] = 0\n",
        "        y_predict[i] = 0\n",
        "      elif y_test[i] != y_minority and y_predict[i] == y_minority:\n",
        "        fp += 1\n",
        "        y_test[i] = 0\n",
        "        y_predict[i] = 1\n",
        "      elif y_test[i] == y_minority and y_predict[i] != y_minority:\n",
        "        fn += 1\n",
        "        y_test[i] = 1\n",
        "        y_predict[i] = 0\n",
        "      elif y_test[i] == y_minority and y_predict[i] == y_minority:\n",
        "        tp += 1\n",
        "        y_test[i] = 1\n",
        "        y_predict[i] = 1\n",
        "\n",
        "    print('Oversampling: ', str(os_percent)+'%')\n",
        "    print('k value : ', k)\n",
        "\n",
        "    print('True  + : ',tp)\n",
        "    print('True  - : ',tn)\n",
        "    print('False + : ',fp)\n",
        "    print('False - :',fn)\n",
        "\n",
        "    print('Precision : ',tp/(tp+fp))\n",
        "    print('Recall : ',tp/(tp+fn))\n",
        "\n",
        "    fpr, tpr, thresholds = roc_curve(y_test, y_predict)\n",
        "    roc_auc = auc(fpr, tpr)\n",
        "    plt.plot(fpr,tpr,label=str(os_percent)+' %, auc='+str(round(roc_auc, 2)))\n",
        "\n",
        "    print()\n",
        "    print()\n",
        "  plt.title('Receiver Operating Characteristic, k='+str(k))\n",
        "  plt.ylabel('True Positive Rate')\n",
        "  plt.xlabel('False Positive Rate')\n",
        "  plt.legend()\n",
        "  plt.show()\n"
      ],
      "execution_count": 133,
      "outputs": [
        {
          "output_type": "stream",
          "name": "stdout",
          "text": [
            "True  + :  29\n",
            "True  - :  87\n",
            "False + :  20\n",
            "False - : 18\n",
            "Precision :  0.5918367346938775\n",
            "Recall :  0.6170212765957447\n",
            "\n",
            "\n",
            "Oversampling:  200%\n",
            "k value :  5\n",
            "True  + :  151\n",
            "True  - :  60\n",
            "False + :  44\n",
            "False - : 6\n",
            "Precision :  0.7743589743589744\n",
            "Recall :  0.9617834394904459\n",
            "\n",
            "\n",
            "Oversampling:  300%\n",
            "k value :  5\n",
            "True  + :  212\n",
            "True  - :  41\n",
            "False + :  56\n",
            "False - : 6\n",
            "Precision :  0.7910447761194029\n",
            "Recall :  0.9724770642201835\n",
            "\n",
            "\n",
            "Oversampling:  400%\n",
            "k value :  5\n",
            "True  + :  250\n",
            "True  - :  51\n",
            "False + :  64\n",
            "False - : 3\n",
            "Precision :  0.7961783439490446\n",
            "Recall :  0.9881422924901185\n",
            "\n",
            "\n",
            "Oversampling:  500%\n",
            "k value :  5\n",
            "True  + :  310\n",
            "True  - :  47\n",
            "False + :  64\n",
            "False - : 1\n",
            "Precision :  0.8288770053475936\n",
            "Recall :  0.9967845659163987\n",
            "\n",
            "\n"
          ]
        },
        {
          "output_type": "display_data",
          "data": {
            "image/png": "[encoded data removed]",
            "text/plain": [
              "<Figure size 432x288 with 1 Axes>"
            ]
          },
          "metadata": {
            "needs_background": "light"
          }
        }
      ]
    },
    {
      "cell_type": "code",
      "metadata": {
        "id": "mtyjwkF_9lr_"
      },
      "source": [
        ""
      ],
      "execution_count": null,
      "outputs": []
    }
  ]
}